{
 "cells": [
  {
   "cell_type": "markdown",
   "metadata": {},
   "source": [
    "# Kindle蔵書情報の分析\n",
    "\n",
    "このノートブックでは、Kindleの蔵書情報をSQLiteデータベースから読み取り、分析および可視化します。"
   ]
  },
  {
   "cell_type": "code",
   "execution_count": null,
   "metadata": {},
   "outputs": [],
   "source": [
    "import sys\n",
    "from pathlib import Path\n",
    "import platform\n",
    "import matplotlib.pyplot as plt\n",
    "import matplotlib as mpl\n",
    "import seaborn as sns\n",
    "\n",
    "# プロジェクトのルートディレクトリをパスに追加\n",
    "project_root = Path.cwd().parent\n",
    "sys.path.append(str(project_root))\n",
    "\n",
    "# プロジェクト固有のモジュールをインポート\n",
    "from src.kindle_analyzer.analyzer import analyze_kindle_library\n",
    "\n",
    "# 日本語フォントの設定\n",
    "# macOSの場合はヒラギノ、Windowsの場合はMSゴシック、それ以外の場合はIPAフォントを使用\n",
    "if platform.system() == \"Darwin\":  # macOS\n",
    "    plt.rcParams[\"font.family\"] = \"Hiragino Sans GB\"\n",
    "elif platform.system() == \"Windows\":  # Windows\n",
    "    plt.rcParams[\"font.family\"] = \"MS Gothic\"\n",
    "else:  # Linux等\n",
    "    plt.rcParams[\"font.family\"] = \"IPAGothic\""
   ]
  },
  {
   "cell_type": "markdown",
   "metadata": {},
   "source": [
    "## データの読み込み\n",
    "\n",
    "まず、Kindleの蔵書情報が保存されているSQLiteデータベースを読み込みます。"
   ]
  },
  {
   "cell_type": "code",
   "execution_count": null,
   "metadata": {},
   "outputs": [],
   "source": [
    "# データベースファイルのパスを指定\n",
    "db_path = project_root / \"data\" / \"BookData.sqlite\"\n",
    "\n",
    "# データを分析\n",
    "results = analyze_kindle_library(db_path)\n",
    "\n",
    "# 書籍データを取得\n",
    "book_df = results[\"book_df\"]\n",
    "\n",
    "# データの基本情報を表示\n",
    "print(f\"書籍の総数: {len(book_df)}\")\n",
    "book_df.head()"
   ]
  },
  {
   "cell_type": "markdown",
   "metadata": {},
   "source": [
    "## 年ごとの書籍数の分析\n",
    "\n",
    "年ごとの書籍購入数を分析します。"
   ]
  },
  {
   "cell_type": "code",
   "execution_count": null,
   "metadata": {},
   "outputs": [],
   "source": [
    "# 年ごとの書籍数を取得\n",
    "yearly_counts = results[\"yearly_counts\"]\n",
    "yearly_counts"
   ]
  },
  {
   "cell_type": "code",
   "execution_count": null,
   "metadata": {},
   "outputs": [],
   "source": [
    "# 年ごとの書籍数をプロット\n",
    "plt.figure(figsize=(12, 6))\n",
    "ax = sns.barplot(x=\"year\", y=\"count\", data=yearly_counts)\n",
    "\n",
    "# 各バーの上に数値を表示\n",
    "for i, v in enumerate(yearly_counts[\"count\"]):\n",
    "    ax.text(i, v + 0.5, str(v), ha=\"center\")\n",
    "\n",
    "plt.title(\"年ごとの書籍購入数\", fontsize=16)\n",
    "plt.xlabel(\"年\", fontsize=12)\n",
    "plt.ylabel(\"書籍数\", fontsize=12)\n",
    "plt.xticks(rotation=45)\n",
    "plt.tight_layout()\n",
    "plt.show()"
   ]
  },
  {
   "cell_type": "markdown",
   "metadata": {},
   "source": [
    "## 出版社ごとの書籍数の分析\n",
    "\n",
    "出版社ごとの書籍数を分析します。"
   ]
  },
  {
   "cell_type": "code",
   "execution_count": null,
   "metadata": {},
   "outputs": [],
   "source": [
    "# 出版社ごとの書籍数を取得\n",
    "publisher_counts = results[\"publisher_counts\"]\n",
    "publisher_counts"
   ]
  },
  {
   "cell_type": "code",
   "execution_count": null,
   "metadata": {},
   "outputs": [],
   "source": [
    "# 出版社ごとの書籍数をプロット\n",
    "plt.figure(figsize=(12, 8))\n",
    "ax = sns.barplot(x=\"count\", y=\"publisher\", data=publisher_counts)\n",
    "\n",
    "# 各バーの右に数値を表示\n",
    "for i, v in enumerate(publisher_counts[\"count\"]):\n",
    "    ax.text(v + 0.5, i, str(v), va=\"center\")\n",
    "\n",
    "plt.title(\"出版社ごとの書籍数\", fontsize=16)\n",
    "plt.xlabel(\"書籍数\", fontsize=12)\n",
    "plt.ylabel(\"出版社\", fontsize=12)\n",
    "plt.tight_layout()\n",
    "plt.show()"
   ]
  },
  {
   "cell_type": "markdown",
   "metadata": {},
   "source": [
    "## 著者ごとの書籍数の分析\n",
    "\n",
    "著者ごとの書籍数を分析します。"
   ]
  },
  {
   "cell_type": "code",
   "execution_count": null,
   "metadata": {},
   "outputs": [],
   "source": [
    "# 著者ごとの書籍数を取得\n",
    "author_counts = results[\"author_counts\"]\n",
    "author_counts"
   ]
  },
  {
   "cell_type": "code",
   "execution_count": null,
   "metadata": {},
   "outputs": [],
   "source": [
    "# 著者ごとの書籍数をプロット\n",
    "plt.figure(figsize=(12, 8))\n",
    "ax = sns.barplot(x=\"count\", y=\"author\", data=author_counts)\n",
    "\n",
    "# 各バーの右に数値を表示\n",
    "for i, v in enumerate(author_counts[\"count\"]):\n",
    "    ax.text(v + 0.5, i, str(v), va=\"center\")\n",
    "\n",
    "plt.title(\"著者ごとの書籍数\", fontsize=16)\n",
    "plt.xlabel(\"書籍数\", fontsize=12)\n",
    "plt.ylabel(\"著者\", fontsize=12)\n",
    "plt.tight_layout()\n",
    "plt.show()"
   ]
  },
  {
   "cell_type": "markdown",
   "metadata": {},
   "source": [
    "## コンテンツタグごとの書籍数の分析\n",
    "\n",
    "コンテンツタグごとの書籍数を分析します。"
   ]
  },
  {
   "cell_type": "code",
   "execution_count": null,
   "metadata": {},
   "outputs": [],
   "source": [
    "# コンテンツタグごとの書籍数を取得\n",
    "tag_counts = results[\"tag_counts\"]\n",
    "tag_counts"
   ]
  },
  {
   "cell_type": "code",
   "execution_count": null,
   "metadata": {},
   "outputs": [],
   "source": [
    "# コンテンツタグごとの書籍数をプロット\n",
    "plt.figure(figsize=(10, 6))\n",
    "ax = sns.barplot(x=\"content_tag\", y=\"count\", data=tag_counts)\n",
    "\n",
    "# 各バーの上に数値を表示\n",
    "for i, v in enumerate(tag_counts[\"count\"]):\n",
    "    ax.text(i, v + 0.5, str(v), ha=\"center\")\n",
    "\n",
    "plt.title(\"コンテンツタグごとの書籍数\", fontsize=16)\n",
    "plt.xlabel(\"コンテンツタグ\", fontsize=12)\n",
    "plt.ylabel(\"書籍数\", fontsize=12)\n",
    "plt.tight_layout()\n",
    "plt.show()"
   ]
  },
  {
   "cell_type": "markdown",
   "metadata": {},
   "source": [
    "## 月ごとの購入書籍数の分析\n",
    "\n",
    "月ごとの購入書籍数を分析します。"
   ]
  },
  {
   "cell_type": "code",
   "execution_count": null,
   "metadata": {},
   "outputs": [],
   "source": [
    "# 月ごとの購入書籍数を取得\n",
    "monthly_counts = results[\"monthly_counts\"]\n",
    "monthly_counts.head()"
   ]
  },
  {
   "cell_type": "code",
   "execution_count": null,
   "metadata": {},
   "outputs": [],
   "source": [
    "# 月ごとの購入書籍数をプロット\n",
    "plt.figure(figsize=(15, 6))\n",
    "ax = sns.lineplot(x=\"year_month\", y=\"count\", data=monthly_counts, marker=\"o\")\n",
    "\n",
    "plt.title(\"月ごとの購入書籍数\", fontsize=16)\n",
    "plt.xlabel(\"年月\", fontsize=12)\n",
    "plt.ylabel(\"書籍数\", fontsize=12)\n",
    "plt.xticks(rotation=90)\n",
    "plt.tight_layout()\n",
    "plt.show()"
   ]
  },
  {
   "cell_type": "markdown",
   "metadata": {},
   "source": [
    "## まとめ\n",
    "\n",
    "以上の分析から、Kindleの蔵書情報について以下のような洞察が得られました：\n",
    "\n",
    "1. 年ごとの購入傾向\n",
    "2. 好みの出版社\n",
    "3. 好みの著者\n",
    "4. コンテンツの種類（漫画、小説など）\n",
    "5. 購入パターン（月ごとの変動）\n",
    "\n",
    "これらの情報を活用して、読書傾向や購入パターンを把握することができます。"
   ]
  }
 ],
 "metadata": {
  "kernelspec": {
   "display_name": "Python 3 (ipykernel)",
   "language": "python",
   "name": "python3"
  },
  "language_info": {
   "codemirror_mode": {
    "name": "ipython",
    "version": 3
   },
   "file_extension": ".py",
   "mimetype": "text/x-python",
   "name": "python",
   "nbconvert_exporter": "python",
   "pygments_lexer": "ipython3",
   "version": "3.12.9"
  }
 },
 "nbformat": 4,
 "nbformat_minor": 4
}
